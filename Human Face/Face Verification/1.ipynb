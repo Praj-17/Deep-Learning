{
 "cells": [
  {
   "cell_type": "markdown",
   "metadata": {},
   "source": [
    "# Face Verification using deepface"
   ]
  },
  {
   "cell_type": "code",
   "execution_count": null,
   "metadata": {},
   "outputs": [],
   "source": [
    "\n"
   ]
  },
  {
   "cell_type": "code",
   "execution_count": 32,
   "metadata": {},
   "outputs": [],
   "source": [
    "from deepface import DeepFace"
   ]
  },
  {
   "cell_type": "code",
   "execution_count": 33,
   "metadata": {},
   "outputs": [
    {
     "data": {
      "text/plain": [
       "{'verified': True,\n",
       " 'distance': 0.252952382263652,\n",
       " 'threshold': 0.4,\n",
       " 'model': 'VGG-Face',\n",
       " 'detector_backend': 'opencv',\n",
       " 'similarity_metric': 'cosine'}"
      ]
     },
     "execution_count": 33,
     "metadata": {},
     "output_type": "execute_result"
    }
   ],
   "source": [
    "result = DeepFace.verify(img1_path = \"d1.jpg\", img2_path = \"d2.jpg\")\n",
    "result"
   ]
  },
  {
   "cell_type": "code",
   "execution_count": 34,
   "metadata": {},
   "outputs": [
    {
     "name": "stdout",
     "output_type": "stream",
     "text": [
      "VGGFace2_DeepFace_weights_val-0.9034.h5 will be downloaded...\n"
     ]
    },
    {
     "name": "stderr",
     "output_type": "stream",
     "text": [
      "Downloading...\n",
      "From: https://github.com/swghosh/DeepFace/releases/download/weights-vggface2-2d-aligned/VGGFace2_DeepFace_weights_val-0.9034.h5.zip\n",
      "To: C:\\Users\\pwayk\\.deepface\\weights\\VGGFace2_DeepFace_weights_val-0.9034.h5.zip\n",
      "100%|██████████| 511M/511M [33:36<00:00, 254kB/s] \n"
     ]
    },
    {
     "ename": "ValueError",
     "evalue": "Face could not be detected. Please confirm that the picture is a face photo or consider to set enforce_detection param to False.",
     "output_type": "error",
     "traceback": [
      "\u001b[1;31m---------------------------------------------------------------------------\u001b[0m",
      "\u001b[1;31mValueError\u001b[0m                                Traceback (most recent call last)",
      "\u001b[1;32me:\\CODING PLAYGROUND\\CODE\\Deep Learning\\Human Face\\Face Verification\\1.ipynb Cell 5'\u001b[0m in \u001b[0;36m<cell line: 4>\u001b[1;34m()\u001b[0m\n\u001b[0;32m      <a href='vscode-notebook-cell:/e%3A/CODING%20PLAYGROUND/CODE/Deep%20Learning/Human%20Face/Face%20Verification/1.ipynb#ch0000004?line=0'>1</a>\u001b[0m models \u001b[39m=\u001b[39m [\u001b[39m\"\u001b[39m\u001b[39mVGG-Face\u001b[39m\u001b[39m\"\u001b[39m, \u001b[39m\"\u001b[39m\u001b[39mFacenet\u001b[39m\u001b[39m\"\u001b[39m, \u001b[39m\"\u001b[39m\u001b[39mFacenet512\u001b[39m\u001b[39m\"\u001b[39m, \u001b[39m\"\u001b[39m\u001b[39mOpenFace\u001b[39m\u001b[39m\"\u001b[39m, \u001b[39m\"\u001b[39m\u001b[39mDeepFace\u001b[39m\u001b[39m\"\u001b[39m, \u001b[39m\"\u001b[39m\u001b[39mDeepID\u001b[39m\u001b[39m\"\u001b[39m, \u001b[39m\"\u001b[39m\u001b[39mArcFace\u001b[39m\u001b[39m\"\u001b[39m, \u001b[39m\"\u001b[39m\u001b[39mDlib\u001b[39m\u001b[39m\"\u001b[39m, \u001b[39m\"\u001b[39m\u001b[39mSFace\u001b[39m\u001b[39m\"\u001b[39m]\n\u001b[0;32m      <a href='vscode-notebook-cell:/e%3A/CODING%20PLAYGROUND/CODE/Deep%20Learning/Human%20Face/Face%20Verification/1.ipynb#ch0000004?line=2'>3</a>\u001b[0m \u001b[39m#face verification\u001b[39;00m\n\u001b[1;32m----> <a href='vscode-notebook-cell:/e%3A/CODING%20PLAYGROUND/CODE/Deep%20Learning/Human%20Face/Face%20Verification/1.ipynb#ch0000004?line=3'>4</a>\u001b[0m result \u001b[39m=\u001b[39m DeepFace\u001b[39m.\u001b[39;49mverify(img1_path \u001b[39m=\u001b[39;49m \u001b[39m\"\u001b[39;49m\u001b[39m1.jpg\u001b[39;49m\u001b[39m\"\u001b[39;49m, img2_path \u001b[39m=\u001b[39;49m \u001b[39m\"\u001b[39;49m\u001b[39m2.jpg\u001b[39;49m\u001b[39m\"\u001b[39;49m, model_name \u001b[39m=\u001b[39;49m models[\u001b[39m4\u001b[39;49m])\n",
      "File \u001b[1;32mc:\\Users\\pwayk\\anaconda3\\envs\\faces\\lib\\site-packages\\deepface\\DeepFace.py:170\u001b[0m, in \u001b[0;36mverify\u001b[1;34m(img1_path, img2_path, model_name, distance_metric, model, enforce_detection, detector_backend, align, prog_bar, normalization)\u001b[0m\n\u001b[0;32m    162\u001b[0m \u001b[39m#img_path, model_name = 'VGG-Face', model = None, enforce_detection = True, detector_backend = 'mtcnn'\u001b[39;00m\n\u001b[0;32m    163\u001b[0m img1_representation \u001b[39m=\u001b[39m represent(img_path \u001b[39m=\u001b[39m img1_path\n\u001b[0;32m    164\u001b[0m \t\t, model_name \u001b[39m=\u001b[39m model_name, model \u001b[39m=\u001b[39m custom_model\n\u001b[0;32m    165\u001b[0m \t\t, enforce_detection \u001b[39m=\u001b[39m enforce_detection, detector_backend \u001b[39m=\u001b[39m detector_backend\n\u001b[0;32m    166\u001b[0m \t\t, align \u001b[39m=\u001b[39m align\n\u001b[0;32m    167\u001b[0m \t\t, normalization \u001b[39m=\u001b[39m normalization\n\u001b[0;32m    168\u001b[0m \t\t)\n\u001b[1;32m--> 170\u001b[0m img2_representation \u001b[39m=\u001b[39m represent(img_path \u001b[39m=\u001b[39;49m img2_path\n\u001b[0;32m    171\u001b[0m \t\t, model_name \u001b[39m=\u001b[39;49m model_name, model \u001b[39m=\u001b[39;49m custom_model\n\u001b[0;32m    172\u001b[0m \t\t, enforce_detection \u001b[39m=\u001b[39;49m enforce_detection, detector_backend \u001b[39m=\u001b[39;49m detector_backend\n\u001b[0;32m    173\u001b[0m \t\t, align \u001b[39m=\u001b[39;49m align\n\u001b[0;32m    174\u001b[0m \t\t, normalization \u001b[39m=\u001b[39;49m normalization\n\u001b[0;32m    175\u001b[0m \t\t)\n\u001b[0;32m    177\u001b[0m \u001b[39m#----------------------\u001b[39;00m\n\u001b[0;32m    178\u001b[0m \u001b[39m#find distances between embeddings\u001b[39;00m\n\u001b[0;32m    180\u001b[0m \u001b[39mfor\u001b[39;00m j \u001b[39min\u001b[39;00m metrics:\n",
      "File \u001b[1;32mc:\\Users\\pwayk\\anaconda3\\envs\\faces\\lib\\site-packages\\deepface\\DeepFace.py:754\u001b[0m, in \u001b[0;36mrepresent\u001b[1;34m(img_path, model_name, model, enforce_detection, detector_backend, align, normalization)\u001b[0m\n\u001b[0;32m    751\u001b[0m input_shape_x, input_shape_y \u001b[39m=\u001b[39m functions\u001b[39m.\u001b[39mfind_input_shape(model)\n\u001b[0;32m    753\u001b[0m \u001b[39m#detect and align\u001b[39;00m\n\u001b[1;32m--> 754\u001b[0m img \u001b[39m=\u001b[39m functions\u001b[39m.\u001b[39;49mpreprocess_face(img \u001b[39m=\u001b[39;49m img_path\n\u001b[0;32m    755\u001b[0m \t, target_size\u001b[39m=\u001b[39;49m(input_shape_y, input_shape_x)\n\u001b[0;32m    756\u001b[0m \t, enforce_detection \u001b[39m=\u001b[39;49m enforce_detection\n\u001b[0;32m    757\u001b[0m \t, detector_backend \u001b[39m=\u001b[39;49m detector_backend\n\u001b[0;32m    758\u001b[0m \t, align \u001b[39m=\u001b[39;49m align)\n\u001b[0;32m    760\u001b[0m \u001b[39m#---------------------------------\u001b[39;00m\n\u001b[0;32m    761\u001b[0m \u001b[39m#custom normalization\u001b[39;00m\n\u001b[0;32m    763\u001b[0m img \u001b[39m=\u001b[39m functions\u001b[39m.\u001b[39mnormalize_input(img \u001b[39m=\u001b[39m img, normalization \u001b[39m=\u001b[39m normalization)\n",
      "File \u001b[1;32mc:\\Users\\pwayk\\anaconda3\\envs\\faces\\lib\\site-packages\\deepface\\commons\\functions.py:178\u001b[0m, in \u001b[0;36mpreprocess_face\u001b[1;34m(img, target_size, grayscale, enforce_detection, detector_backend, return_region, align)\u001b[0m\n\u001b[0;32m    175\u001b[0m img \u001b[39m=\u001b[39m load_image(img)\n\u001b[0;32m    176\u001b[0m base_img \u001b[39m=\u001b[39m img\u001b[39m.\u001b[39mcopy()\n\u001b[1;32m--> 178\u001b[0m img, region \u001b[39m=\u001b[39m detect_face(img \u001b[39m=\u001b[39;49m img, detector_backend \u001b[39m=\u001b[39;49m detector_backend, grayscale \u001b[39m=\u001b[39;49m grayscale, enforce_detection \u001b[39m=\u001b[39;49m enforce_detection, align \u001b[39m=\u001b[39;49m align)\n\u001b[0;32m    180\u001b[0m \u001b[39m#--------------------------\u001b[39;00m\n\u001b[0;32m    182\u001b[0m \u001b[39mif\u001b[39;00m img\u001b[39m.\u001b[39mshape[\u001b[39m0\u001b[39m] \u001b[39m==\u001b[39m \u001b[39m0\u001b[39m \u001b[39mor\u001b[39;00m img\u001b[39m.\u001b[39mshape[\u001b[39m1\u001b[39m] \u001b[39m==\u001b[39m \u001b[39m0\u001b[39m:\n",
      "File \u001b[1;32mc:\\Users\\pwayk\\anaconda3\\envs\\faces\\lib\\site-packages\\deepface\\commons\\functions.py:124\u001b[0m, in \u001b[0;36mdetect_face\u001b[1;34m(img, detector_backend, grayscale, enforce_detection, align)\u001b[0m\n\u001b[0;32m    122\u001b[0m \t\u001b[39mreturn\u001b[39;00m img, img_region\n\u001b[0;32m    123\u001b[0m \u001b[39melse\u001b[39;00m:\n\u001b[1;32m--> 124\u001b[0m \t\u001b[39mraise\u001b[39;00m \u001b[39mValueError\u001b[39;00m(\u001b[39m\"\u001b[39m\u001b[39mFace could not be detected. Please confirm that the picture is a face photo or consider to set enforce_detection param to False.\u001b[39m\u001b[39m\"\u001b[39m)\n",
      "\u001b[1;31mValueError\u001b[0m: Face could not be detected. Please confirm that the picture is a face photo or consider to set enforce_detection param to False."
     ]
    }
   ],
   "source": [
    "models = [\"VGG-Face\", \"Facenet\", \"Facenet512\", \"OpenFace\", \"DeepFace\", \"DeepID\", \"ArcFace\", \"Dlib\", \"SFace\"]\n",
    "\n",
    "#face verification\n",
    "result = DeepFace.verify(img1_path = \"1.jpg\", img2_path = \"2.jpg\", model_name = models[4])"
   ]
  }
 ],
 "metadata": {
  "kernelspec": {
   "display_name": "Python 3.8.0 ('faces')",
   "language": "python",
   "name": "python3"
  },
  "language_info": {
   "codemirror_mode": {
    "name": "ipython",
    "version": 3
   },
   "file_extension": ".py",
   "mimetype": "text/x-python",
   "name": "python",
   "nbconvert_exporter": "python",
   "pygments_lexer": "ipython3",
   "version": "3.8.0"
  },
  "orig_nbformat": 4,
  "vscode": {
   "interpreter": {
    "hash": "5c3ab4b4df4f093a1fe9a5822ba7cbf5ca259a7eb119c19dd63e03abc7923dc3"
   }
  }
 },
 "nbformat": 4,
 "nbformat_minor": 2
}
