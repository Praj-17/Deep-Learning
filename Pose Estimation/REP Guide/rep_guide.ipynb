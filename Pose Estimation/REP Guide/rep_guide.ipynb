{
 "cells": [
  {
   "cell_type": "markdown",
   "metadata": {},
   "source": [
    "# Rep Guide using MediaPipe"
   ]
  },
  {
   "cell_type": "code",
   "execution_count": 2,
   "metadata": {},
   "outputs": [],
   "source": [
    "import cv2\n",
    "import mediapipe as mp\n",
    "mp_drawing = mp.solutions.drawing_utils\n",
    "mp_drawing_styles = mp.solutions.drawing_styles\n",
    "mp_pose = mp.solutions.pose"
   ]
  },
  {
   "cell_type": "code",
   "execution_count": 3,
   "metadata": {},
   "outputs": [],
   "source": [
    "# For webcam input:\n",
    "cap = cv2.VideoCapture('KneeBendVideo.mp4')\n",
    "with mp_pose.Pose(\n",
    "    min_detection_confidence=0.5,\n",
    "    min_tracking_confidence=0.5) as pose:\n",
    "  while cap.isOpened():\n",
    "    success, image = cap.read()\n",
    "    if not success:\n",
    "      print(\"Ignoring empty camera frame.\")\n",
    "      continue\n",
    "\n",
    "    # To improve performance, optionally mark the image as not writeable to\n",
    "    # pass by reference.\n",
    "    image.flags.writeable = False\n",
    "    image = cv2.cvtColor(image, cv2.COLOR_BGR2RGB)\n",
    "    results = pose.process(image)\n",
    "    landmarks = results.pose_landmarks.landmark\n",
    "\n",
    "    # Draw the pose annotation on the image.\n",
    "    image.flags.writeable = True\n",
    "    image = cv2.cvtColor(image, cv2.COLOR_RGB2BGR)\n",
    "    mp_drawing.draw_landmarks(\n",
    "        image,\n",
    "        results.pose_landmarks,\n",
    "        mp_pose.POSE_CONNECTIONS,\n",
    "        landmark_drawing_spec=mp_drawing_styles.get_default_pose_landmarks_style())\n",
    "    # Flip the image horizontally for a selfie-view display.\n",
    "    cv2.imshow('MediaPipe Pose', image)\n",
    "    if cv2.waitKey(0) & 0xFF == ord('q'):\n",
    "        break\n",
    "cap.release()\n",
    "cv2.destroyAllWindows()"
   ]
  },
  {
   "cell_type": "markdown",
   "metadata": {},
   "source": [
    "### Looking at all the landmarks"
   ]
  },
  {
   "cell_type": "markdown",
   "metadata": {},
   "source": [
    "![Landmarks](https://camo.githubusercontent.com/37bc1d0f546f2dd001798a0f66057c9c907e6b5efae95a068bcce8c852c2e234/68747470733a2f2f692e696d6775722e636f6d2f336a38425064632e706e67)"
   ]
  },
  {
   "cell_type": "markdown",
   "metadata": {},
   "source": [
    "Let us look what a landmark looks like"
   ]
  },
  {
   "cell_type": "code",
   "execution_count": 4,
   "metadata": {},
   "outputs": [
    {
     "data": {
      "text/plain": [
       "0.9983614087104797"
      ]
     },
     "execution_count": 4,
     "metadata": {},
     "output_type": "execute_result"
    }
   ],
   "source": [
    "landmarks[mp_pose.PoseLandmark.LEFT_SHOULDER.value].visibility"
   ]
  },
  {
   "cell_type": "code",
   "execution_count": 5,
   "metadata": {},
   "outputs": [
    {
     "data": {
      "text/plain": [
       "x: 0.603471040725708\n",
       "y: 0.7506308555603027\n",
       "z: -0.1929214596748352\n",
       "visibility: 0.8054438233375549"
      ]
     },
     "execution_count": 5,
     "metadata": {},
     "output_type": "execute_result"
    }
   ],
   "source": [
    "landmarks[mp_pose.PoseLandmark.LEFT_ELBOW.value]"
   ]
  },
  {
   "cell_type": "code",
   "execution_count": 6,
   "metadata": {},
   "outputs": [
    {
     "data": {
      "text/plain": [
       "x: 0.5070220828056335\n",
       "y: 0.7888687252998352\n",
       "z: -0.10971036553382874\n",
       "visibility: 0.5526841282844543"
      ]
     },
     "execution_count": 6,
     "metadata": {},
     "output_type": "execute_result"
    }
   ],
   "source": [
    "landmarks[mp_pose.PoseLandmark.LEFT_WRIST.value]"
   ]
  },
  {
   "cell_type": "markdown",
   "metadata": {},
   "source": [
    "### Coming to the assignment use-case"
   ]
  },
  {
   "cell_type": "markdown",
   "metadata": {},
   "source": [
    "Exercise description -  \n",
    "<ol>\n",
    "    <li> Leg should be bent to start timer</li>\n",
    "    <li> Slight inward bend is enough to start the timer. ( <140 deg)</li>\n",
    "    <li> After a successful rep, the person has to stretch his/her leg straight.</li>\n",
    "    <li> No restriction for back angle</li>\n",
    "    <li> Consider leg closer to camera as exercised leg </li>\n",
    "</ol>\n"
   ]
  },
  {
   "cell_type": "markdown",
   "metadata": {},
   "source": [
    "From the above description and from the video shared , it is clear that we primarily need to focus on the left leg of the person in the frame\n",
    "\n",
    "To calculate the the angle that the leg and the ankle is making, we would require the following landmarks\n",
    "   <ol>\n",
    "    <li> left_hip</li>\n",
    "    <li>left_knee</li>\n",
    "    <li>left_ankle</li>\n",
    "  </ol>"
   ]
  },
  {
   "cell_type": "markdown",
   "metadata": {},
   "source": [
    "Now, we will be only taking the x and y co-ordinates of these landmarks since, taking z won't be much benificial and also, it  would add up to more complexities "
   ]
  },
  {
   "cell_type": "code",
   "execution_count": 9,
   "metadata": {},
   "outputs": [],
   "source": [
    "hip = [landmarks[mp_pose.PoseLandmark.LEFT_HIP.value].x,landmarks[mp_pose.PoseLandmark.LEFT_HIP.value].y]\n",
    "knee = [landmarks[mp_pose.PoseLandmark.LEFT_KNEE.value].x,landmarks[mp_pose.PoseLandmark.LEFT_KNEE.value].y]\n",
    "ankle = [landmarks[mp_pose.PoseLandmark.LEFT_ANKLE.value].x,landmarks[mp_pose.PoseLandmark.LEFT_ANKLE.value].y]"
   ]
  },
  {
   "cell_type": "code",
   "execution_count": 10,
   "metadata": {},
   "outputs": [
    {
     "data": {
      "text/plain": [
       "([0.6445006728172302, 0.8251363635063171],\n",
       " [0.4404439330101013, 0.8205329179763794],\n",
       " [0.3819670081138611, 0.8452469706535339])"
      ]
     },
     "execution_count": 10,
     "metadata": {},
     "output_type": "execute_result"
    }
   ],
   "source": [
    "hip, knee, ankle"
   ]
  },
  {
   "cell_type": "markdown",
   "metadata": {},
   "source": [
    "## Calculating Angles"
   ]
  },
  {
   "cell_type": "markdown",
   "metadata": {},
   "source": [
    "### Logic to calculate anngles\n",
    "\n",
    "let us consider the 2 vecotors \n",
    "\n",
    "![imge](data:image/png;base64,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)"
   ]
  },
  {
   "cell_type": "markdown",
   "metadata": {},
   "source": [
    "let p2 = hip, p1 = knee and p3 = ankle\n",
    "\n",
    "now, we have to calculate angle theta!\n",
    "\n",
    "let us consider the 2 lines \n",
    "so slope = tan(theta) = y2-y1/x2-x1\n",
    "applying the smae"
   ]
  },
  {
   "cell_type": "code",
   "execution_count": 11,
   "metadata": {},
   "outputs": [],
   "source": [
    "import numpy as np\n",
    "def calculate_angle(a,b,c):\n",
    "    a = np.array(a) # First\n",
    "    b = np.array(b) # Mid\n",
    "    c = np.array(c) # End\n",
    "    \n",
    "    radians = np.arctan2(c[1]-b[1], c[0]-b[0]) - np.arctan2(a[1]-b[1], a[0]-b[0])\n",
    "    angle = np.abs(radians*180.0/np.pi)\n",
    "    \n",
    "    if angle >180.0:\n",
    "        angle = 360-angle\n",
    "        \n",
    "    return angle "
   ]
  },
  {
   "cell_type": "code",
   "execution_count": 14,
   "metadata": {},
   "outputs": [
    {
     "data": {
      "text/plain": [
       "155.797311235883"
      ]
     },
     "execution_count": 14,
     "metadata": {},
     "output_type": "execute_result"
    }
   ],
   "source": [
    "angle = calculate_angle(hip, knee, ankle)\n",
    "angle"
   ]
  },
  {
   "cell_type": "code",
   "execution_count": null,
   "metadata": {},
   "outputs": [],
   "source": []
  }
 ],
 "metadata": {
  "kernelspec": {
   "display_name": "Python 3.9.7 ('base')",
   "language": "python",
   "name": "python3"
  },
  "language_info": {
   "codemirror_mode": {
    "name": "ipython",
    "version": 3
   },
   "file_extension": ".py",
   "mimetype": "text/x-python",
   "name": "python",
   "nbconvert_exporter": "python",
   "pygments_lexer": "ipython3",
   "version": "3.9.7"
  },
  "orig_nbformat": 4,
  "vscode": {
   "interpreter": {
    "hash": "dd99128efe45cf7f632cb7a0355bba7c77cb113ed91636cb4dc08454e93f5b32"
   }
  }
 },
 "nbformat": 4,
 "nbformat_minor": 2
}
