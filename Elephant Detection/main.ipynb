{
 "cells": [
  {
   "cell_type": "code",
   "execution_count": 23,
   "metadata": {},
   "outputs": [
    {
     "name": "stdout",
     "output_type": "stream",
     "text": [
      "number of elephants detected 0\n"
     ]
    }
   ],
   "source": [
    "import cv2\n",
    "face_cascade=cv2.CascadeClassifier(r\"Models\\classifier\\cascade.xml\")\n",
    "###path of cascade file\n",
    "## following is an test image u can take any image from the p folder in the temp folder and paste address of it on below line \n",
    "img= cv2.imread(r\"Data\\p\\elephantsinjungle10.jpeg\")###path of image file which we want to detect\n",
    "resized = cv2.resize(img,(400,200))\n",
    "gray=cv2.cvtColor(resized,cv2.COLOR_BGR2GRAY)\n",
    "faces=face_cascade.detectMultiScale(gray,50,2)#try to tune this 6.5 and 17 parameter to get good result \n",
    "##if not getting good result try to train new cascade.xml file again deleting other file expect p and n in temp folder\n",
    "print('number of elephants detected', len(faces))\n",
    "for(x,y,w,h) in faces:\n",
    "    resized=cv2.rectangle(resized,(x,y),(x+w,y+h),(0,255,0),2)\n",
    "cv2.imshow('img',resized)\n",
    "cv2.waitKey(0)\n",
    "cv2.destroyAllWindows()"
   ]
  }
 ],
 "metadata": {
  "kernelspec": {
   "display_name": "Python 3",
   "language": "python",
   "name": "python3"
  },
  "language_info": {
   "codemirror_mode": {
    "name": "ipython",
    "version": 3
   },
   "file_extension": ".py",
   "mimetype": "text/x-python",
   "name": "python",
   "nbconvert_exporter": "python",
   "pygments_lexer": "ipython3",
   "version": "3.9.7 (tags/v3.9.7:1016ef3, Aug 30 2021, 20:19:38) [MSC v.1929 64 bit (AMD64)]"
  },
  "orig_nbformat": 4,
  "vscode": {
   "interpreter": {
    "hash": "941096ab4a304f3509822dba92ee1d36e30c4bf17f0e34fdfd12300d4a2ccfca"
   }
  }
 },
 "nbformat": 4,
 "nbformat_minor": 2
}
